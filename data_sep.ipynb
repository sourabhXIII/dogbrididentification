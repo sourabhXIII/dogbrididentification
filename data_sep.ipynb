{
 "cells": [
  {
   "cell_type": "code",
   "execution_count": 1,
   "metadata": {},
   "outputs": [],
   "source": [
    "import numpy as np\n",
    "import cv2\n",
    "import pandas"
   ]
  },
  {
   "cell_type": "code",
   "execution_count": 2,
   "metadata": {},
   "outputs": [
    {
     "name": "stdout",
     "output_type": "stream",
     "text": [
      "                                 id             breed\n",
      "0  000bec180eb18c7604dcecc8fe0dba07       boston_bull\n",
      "1  001513dfcb2ffafc82cccf4d8bbaba97             dingo\n",
      "2  001cdf01b096e06d78e9e5112d419397          pekinese\n",
      "3  00214f311d5d2247d5dfe4fe24b2303d          bluetick\n",
      "4  0021f9ceb3235effd7fcde7f7538ed62  golden_retriever\n"
     ]
    }
   ],
   "source": [
    "label_file = pandas.read_csv('./data/labels.csv')\n",
    "print(label_file.head(5))"
   ]
  },
  {
   "cell_type": "code",
   "execution_count": 4,
   "metadata": {},
   "outputs": [],
   "source": [
    "# Initialize the number of classes\n",
    "n_classes = len(label_file['breed'].unique())\n",
    "# Total number of samples present, train + val\n",
    "n_samples = len(label_file)"
   ]
  },
  {
   "cell_type": "code",
   "execution_count": 8,
   "metadata": {},
   "outputs": [],
   "source": [
    "# create a label to idx dictionary. Its basically string label to int label dictionary.\n",
    "label_to_idx = {}\n",
    "# dictionary to map int label to string label\n",
    "idx_to_label = {}\n",
    "unique_labels = label_file['breed'].unique()\n",
    "for i in range(0, n_classes):\n",
    "    label_to_idx[unique_labels[i]] = i\n",
    "    idx_to_label[i] = unique_labels[i]"
   ]
  },
  {
   "cell_type": "code",
   "execution_count": 12,
   "metadata": {},
   "outputs": [],
   "source": [
    "partition = {'train': label_file['id'].tolist(), 'val': []}\n",
    "# this is a id to label dictionary\n",
    "id_to_labels = {}\n",
    "id_to_int_labels = {}  # id to integer label dictionary\n",
    "for i in range(0, n_samples):\n",
    "#     if i % 10 ==0:\n",
    "#         print(\"Moving %s\" % i)\n",
    "    l_id, lb = label_file.iloc[i]  # id, string label\n",
    "    id_to_labels[l_id] = lb\n",
    "    # add the integer value of labels in the dataframe itself, this will help to create one-hot represetation\n",
    "    id_to_int_labels[l_id] = label_to_idx[lb]"
   ]
  },
  {
   "cell_type": "code",
   "execution_count": 19,
   "metadata": {},
   "outputs": [],
   "source": [
    "# id_to_int_labels has id:label structure\n",
    "int_labels_to_id = {} # invert of id_to_int_labels\n",
    "for k, v in id_to_int_labels.items():\n",
    "    int_labels_to_id[v] = int_labels_to_id.setdefault(v, [])\n",
    "    int_labels_to_id[v].append(k)"
   ]
  },
  {
   "cell_type": "code",
   "execution_count": 28,
   "metadata": {},
   "outputs": [],
   "source": [
    "import os\n",
    "import shutil\n",
    "for label, ids in int_labels_to_id.items():\n",
    "    train_path = './data/train/'\n",
    "    dest_path = train_path + str(label)\n",
    "    os.makedirs(dest_path, exist_ok=True)\n",
    "    for id in ids:\n",
    "        file_path = train_path + id + '.jpg'\n",
    "        shutil.copy(file_path, dest_path)"
   ]
  },
  {
   "cell_type": "code",
   "execution_count": null,
   "metadata": {},
   "outputs": [],
   "source": []
  }
 ],
 "metadata": {
  "kernelspec": {
   "display_name": "Python 3",
   "language": "python",
   "name": "python3"
  },
  "language_info": {
   "codemirror_mode": {
    "name": "ipython",
    "version": 3
   },
   "file_extension": ".py",
   "mimetype": "text/x-python",
   "name": "python",
   "nbconvert_exporter": "python",
   "pygments_lexer": "ipython3",
   "version": "3.6.3"
  }
 },
 "nbformat": 4,
 "nbformat_minor": 2
}
